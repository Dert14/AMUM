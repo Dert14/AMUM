{
 "cells": [
  {
   "cell_type": "markdown",
   "id": "9ed56307",
   "metadata": {},
   "source": [
    "# Algorytmika i matematyka uczenia maszynowego \n",
    "## Laboratorium 2\n",
    "\n",
    "Do wykonania zadań proszę zapoznać się z metodami, właściwościami, oraz funkcjami:\n",
    "`__repr__`, `__str__`, `__add__`, `__sub__`, `__eq__`, `__lt__`, `__gt__`, `__le__`, `__ge__`, `__ne__`, `__hash__`, `__truediv__`, `__mul__`, `__class__`, `__name__`, `id`.\n",
    "\n",
    "Operatory: https://docs.python.org/3/library/operator.html\n",
    "\n",
    "\n",
    "**UWAGA**: W ninejszym laboratorium proszę nie korzystać z zewnętrzych modułów/bibliotek (poza biblioteką _matplotlib_).\n",
    "\n",
    "**UWAGA 2**: Obsługę błędów należy zrealizować w postaci wyjątków.\n",
    "\n",
    "### Zadanie 1\n",
    "\n",
    "Napisz klasę `Vector` udostępniającą funkcjonalność:\n",
    "- reprezentuje wektor dowolnej długości,\n",
    "- obiekt inicjowany listą (np. `Vector([1, 2, 3])`,\n",
    "- posiada funkcję zwracającą moduł wektora,\n",
    "- umożliwia dodawanie (`+`) i odejmowanie (`-`) wektorów. Dodaj obsługę błędów (różna długość (liczba elementów) wektora),\n",
    "- możliwość wyświetlenia wektora jako listy za pomocą funkcji `print(v)` (metoda `__str__`),\n",
    "- uruchomienie komórki zawierającej jedynie nazwę zmiennej (typu `Vector`) spowoduje wyświetlenie nazwy typu `Vector`, adresu zmiennej w pamięci (funkcja `id`) oraz jej zawartości, np. `<Vector([1, 2, 3]) at 140185630442880>` (metoda `__repr__`)"
   ]
  },
  {
   "cell_type": "code",
   "execution_count": 76,
   "id": "ac82ae76",
   "metadata": {},
   "outputs": [
    {
     "name": "stdout",
     "output_type": "stream",
     "text": [
      "3.7416573867739413\n",
      "[1, 0, -1]\n",
      "[1, 2, 3]\n"
     ]
    },
    {
     "data": {
      "text/plain": [
       "<Vector([1, 2, 3]) at  5255170896"
      ]
     },
     "execution_count": 76,
     "metadata": {},
     "output_type": "execute_result"
    }
   ],
   "source": [
    "from math import *\n",
    "import matplotlib.pyplot as plt\n",
    "import operator\n",
    "\n",
    "class Vector:\n",
    "    def __init__(self, values) -> None:\n",
    "        self.values = values\n",
    "\n",
    "    def module(self):\n",
    "        sum_of_squares = sum([pow(value, 2) for value in self.values])\n",
    "        return sqrt(sum_of_squares)\n",
    "    \n",
    "    def __add__(self, vector_2):\n",
    "        if len(self.values) != len(vector_2.values):\n",
    "            print(\"Vectors have different sizes\")\n",
    "        else:\n",
    "            result = list( map(operator.add, self.values, vector_2.values))\n",
    "            return result\n",
    "    \n",
    "    def __sub__(self, vector_2):\n",
    "        if len(self.values) != len(vector_2.values):\n",
    "            print(\"Vectors have different sizes\")\n",
    "        else:\n",
    "            result = list( map(operator.sub, self.values, vector_2.values))\n",
    "            return result\n",
    "        \n",
    "    def __str__(self):\n",
    "        return str(self.values)\n",
    "    \n",
    "    def __repr__(self) -> str:\n",
    "        return f\"<Vector({self.values}) at  {id(self)}\"\n",
    "    \n",
    "    def __eq__(self, vector_2):\n",
    "        bools = [self.values[i] == vector_2.values[i] for i in range(len(self.values))]\n",
    "        return print(f\"<Vector({bools}) at {id(self)}>\")\n",
    "    \n",
    "    def __ne__(self, vector_2):\n",
    "        bools = [self.values[i] != vector_2.values[i] for i in range(len(self.values))]\n",
    "        return print(f\"<Vector({bools}) at {id(self)}>\")\n",
    "    \n",
    "    def __lt__(self, vector_2):\n",
    "        bools = [self.values[i] < vector_2.values[i] for i in range(len(self.values))]\n",
    "        return print(f\"<Vector({bools}) at {id(self)}>\")\n",
    "    \n",
    "    def __gt__(self, vector_2):\n",
    "        bools = [self.values[i] > vector_2.values[i] for i in range(len(self.values))]\n",
    "        return print(f\"<Vector({bools}) at {id(self)}>\")\n",
    "    \n",
    "    def __ge__(self, vector_2):\n",
    "        bools = [self.values[i] >= vector_2.values[i] for i in range(len(self.values))]\n",
    "        return print(f\"<Vector({bools}) at {id(self)}>\")\n",
    "    \n",
    "    def __le__(self, vector_2):\n",
    "        bools = [self.values[i] <= vector_2.values[i] for i in range(len(self.values))]\n",
    "        return print(f\"<Vector({bools}) at {id(self)}>\")\n",
    "    \n",
    "    def plot(self):\n",
    "        if len(self.values) == 2:\n",
    "            value_x = self.values[0]\n",
    "            value_y = self.values[1]\n",
    "            plt.quiver([0, 0, 0], [0, 0, 0], [value_x], [value_y], angles='xy', scale_units='xy', scale=1)\n",
    "            plt.xlim(-value_x-1, value_x+1)\n",
    "            plt.ylim(-value_y-1, value_y+1)\n",
    "            plt.show()\n",
    "        else:\n",
    "            print(\"dimensions are not suitble\")\n",
    "\n",
    "    def __hash__(self):\n",
    "        # Calculate the hash of the tuple of values\n",
    "        s = [str(i) for i in self.values]\n",
    "        res = int(\"\".join(s))\n",
    "        print(res)\n",
    "        return res\n",
    "\n",
    "    \n",
    "    def __mul__(self, scalar):\n",
    "        return [round(number * scalar, 4) for number in self.values]\n",
    "    \n",
    "    def __truediv__(self, scalar):\n",
    "        if scalar != 0:\n",
    "            return [round(number / scalar, 4) for number in self.values]\n",
    "        else:\n",
    "            return \"You cant divide by 0\"\n",
    "        \n",
    "    \n",
    "V1 = Vector([1, 2, 3])\n",
    "V2 = Vector([0, 2, 4])\n",
    "print(V1.module())\n",
    "print(V1 - V2)\n",
    "print(V1)\n",
    "V1"
   ]
  },
  {
   "cell_type": "markdown",
   "id": "87da7375",
   "metadata": {},
   "source": [
    "### Zadanie 2\n",
    "\n",
    "Do wcześniej zaimplementowanej klasy dopisz funkcje pozwalające na porównanie wektorów (ich modułów) za pomocą operatorów: `==`, `>=`, `<=`, `>`, `<`, `!=`. Porównanie ma zostać wykonane na poziomie elementów wektorów (_element wise_), poniżej przykład:\n",
    "\n",
    "```ipython\n",
    " In [1]: a = Vector([1, 2, 3]) \\\n",
    "    ...: b = Vector([3, 2, 1]) \\\n",
    "    ...: a <= b\n",
    "Out [1]: <Vector([True, True, False]) at 140185575662832>\n",
    "```"
   ]
  },
  {
   "cell_type": "code",
   "execution_count": 66,
   "id": "3b99972a",
   "metadata": {},
   "outputs": [
    {
     "name": "stdout",
     "output_type": "stream",
     "text": [
      "<Vector([True, False, False]) at 5260184400>\n",
      "None\n",
      "<Vector([True, True, False]) at 5260184400>\n",
      "None\n",
      "<Vector([False, True, False]) at 5260184400>\n",
      "None\n",
      "<Vector([True, False, True]) at 5260184400>\n",
      "None\n",
      "<Vector([False, False, True]) at 5260184400>\n",
      "None\n",
      "<Vector([False, True, True]) at 5260184400>\n",
      "None\n"
     ]
    }
   ],
   "source": [
    "print(V1>V2)\n",
    "print(V1>=V2)\n",
    "print(V1==V2)\n",
    "print(V1!=V2)\n",
    "print(V1<V2)\n",
    "print(V1<=V2)"
   ]
  },
  {
   "cell_type": "markdown",
   "id": "d8e9a446",
   "metadata": {},
   "source": [
    "### Zadanie 3\n",
    "\n",
    "Napisz funkcję umożliwiającą wyświetlenie wektora (`Vector`) zaczepionego w punkcie (0,0) na wykresie (zaimplementuj wyświetlanie za pomocą biblioteki `matplotlib`. \n",
    "\n",
    "> **UWAGA**: Funkcja powinna działać tylko dla wektora o dwóch wymiarach (dwuelementowa lista) - wykres 2D i wyświetlać komunikat jeżeli wymiar jest inny.\n",
    "\n",
    "> Podpowiedź: możesz wykorzystać funkcję [matplotlib.pyplot.arrow](https://matplotlib.org/3.5.1/api/_as_gen/matplotlib.pyplot.arrow.html)"
   ]
  },
  {
   "cell_type": "code",
   "execution_count": 70,
   "id": "c9f9de7b",
   "metadata": {},
   "outputs": [
    {
     "data": {
      "image/png": "[encoded data removed]",
      "text/plain": [
       "<Figure size 640x480 with 1 Axes>"
      ]
     },
     "metadata": {},
     "output_type": "display_data"
    }
   ],
   "source": [
    "V3 = Vector([1, 2])\n",
    "V3.plot()"
   ]
  },
  {
   "cell_type": "markdown",
   "id": "ebc3c411",
   "metadata": {},
   "source": [
    "### Zadanie 4\n",
    "\n",
    "Dodaj możliwość zastosowania obiektu klasy `Vector` jako klucza w słowniku. Np.:\n",
    "\n",
    "```python\n",
    "d = {\n",
    "    Vector([1, 2, 3]): 'Wektor 1',\n",
    "    Vector([2, 2, 3]): 'Wektor 2'\n",
    "}\n",
    "d[Vector([2, 2, 3])]\n",
    "```"
   ]
  },
  {
   "cell_type": "code",
   "execution_count": 82,
   "id": "d1db2d39",
   "metadata": {},
   "outputs": [
    {
     "name": "stdout",
     "output_type": "stream",
     "text": [
      "<Vector([True, True, True]) at 5254678928>\n"
     ]
    },
    {
     "ename": "KeyError",
     "evalue": "<Vector([2, 2, 3]) at  5255911504",
     "output_type": "error",
     "traceback": [
      "\u001b[0;31m---------------------------------------------------------------------------\u001b[0m",
      "\u001b[0;31mKeyError\u001b[0m                                  Traceback (most recent call last)",
      "Cell \u001b[0;32mIn[82], line 5\u001b[0m\n\u001b[1;32m      1\u001b[0m d \u001b[38;5;241m=\u001b[39m {\n\u001b[1;32m      2\u001b[0m     Vector([\u001b[38;5;241m1\u001b[39m, \u001b[38;5;241m2\u001b[39m, \u001b[38;5;241m3\u001b[39m]): \u001b[38;5;124m'\u001b[39m\u001b[38;5;124mWektor 1\u001b[39m\u001b[38;5;124m'\u001b[39m,\n\u001b[1;32m      3\u001b[0m     Vector([\u001b[38;5;241m2\u001b[39m, \u001b[38;5;241m2\u001b[39m, \u001b[38;5;241m3\u001b[39m]): \u001b[38;5;124m'\u001b[39m\u001b[38;5;124mWektor 2\u001b[39m\u001b[38;5;124m'\u001b[39m\n\u001b[1;32m      4\u001b[0m }\n\u001b[0;32m----> 5\u001b[0m \u001b[43md\u001b[49m\u001b[43m[\u001b[49m\u001b[43mVector\u001b[49m\u001b[43m(\u001b[49m\u001b[43m[\u001b[49m\u001b[38;5;241;43m2\u001b[39;49m\u001b[43m,\u001b[49m\u001b[43m \u001b[49m\u001b[38;5;241;43m2\u001b[39;49m\u001b[43m,\u001b[49m\u001b[43m \u001b[49m\u001b[38;5;241;43m3\u001b[39;49m\u001b[43m]\u001b[49m\u001b[43m)\u001b[49m\u001b[43m]\u001b[49m\n",
      "\u001b[0;31mKeyError\u001b[0m: <Vector([2, 2, 3]) at  5255911504"
     ]
    }
   ],
   "source": [
    "d = {\n",
    "    Vector([1, 2, 3]): 'Wektor 1',\n",
    "    Vector([2, 2, 3]): 'Wektor 2'\n",
    "}\n",
    "d[Vector([2, 2, 3])]\n"
   ]
  },
  {
   "cell_type": "markdown",
   "id": "8aec816a",
   "metadata": {},
   "source": [
    "### Zadanie 5\n",
    "\n",
    "Dodaj funkcjonalność:\n",
    "- dzielenia przez skalar (np. `Vector([2, 4]) / 2`),\n",
    "- mnożenia przez skalar (np. `Vector([2, 4]) * 2`).\n",
    "\n",
    "> Podpowiedź: Pamiętaj o obsłudze błędów."
   ]
  },
  {
   "cell_type": "code",
   "execution_count": 73,
   "id": "2bb3d9bb",
   "metadata": {},
   "outputs": [
    {
     "name": "stdout",
     "output_type": "stream",
     "text": [
      "[0.5, 1.0, 1.5]\n",
      "[3, 6, 9]\n"
     ]
    }
   ],
   "source": [
    "V4 = Vector([1, 2, 3])\n",
    "print(V4 / 2)\n",
    "print(V4 * 3)"
   ]
  }
 ],
 "metadata": {
  "author": {
   "email": "robert.susik@p.lodz.pl",
   "name": "Robert Susik"
  },
  "kernelspec": {
   "display_name": "Python 3 (ipykernel)",
   "language": "python",
   "name": "python3"
  },
  "language_info": {
   "codemirror_mode": {
    "name": "ipython",
    "version": 3
   },
   "file_extension": ".py",
   "mimetype": "text/x-python",
   "name": "python",
   "nbconvert_exporter": "python",
   "pygments_lexer": "ipython3",
   "version": "3.11.8"
  },
  "toc": {
   "base_numbering": 1,
   "nav_menu": {},
   "number_sections": true,
   "sideBar": true,
   "skip_h1_title": false,
   "title_cell": "Table of Contents",
   "title_sidebar": "Contents",
   "toc_cell": false,
   "toc_position": {},
   "toc_section_display": true,
   "toc_window_display": false
  }
 },
 "nbformat": 4,
 "nbformat_minor": 5
}
